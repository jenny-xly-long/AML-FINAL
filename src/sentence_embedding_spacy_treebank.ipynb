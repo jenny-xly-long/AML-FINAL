{
 "cells": [
  {
   "cell_type": "code",
   "execution_count": 1,
   "metadata": {},
   "outputs": [],
   "source": [
    "import numpy as np\n",
    "import spacy\n",
    "from preprocess import preprocess_treebank\n",
    "from sklearn.feature_extraction.text import TfidfVectorizer\n",
    "from tqdm import tqdm"
   ]
  },
  {
   "cell_type": "code",
   "execution_count": 2,
   "metadata": {},
   "outputs": [],
   "source": [
    "# loads data\n",
    "data = preprocess_treebank()\n",
    "X_train = data[0]\n",
    "y_train = data[1]\n",
    "X_test = data[2]\n",
    "y_test = data[3]"
   ]
  },
  {
   "cell_type": "code",
   "execution_count": 3,
   "metadata": {},
   "outputs": [],
   "source": [
    "# loads spacy model\n",
    "nlp = spacy.load('en_core_web_lg')"
   ]
  },
  {
   "cell_type": "code",
   "execution_count": 4,
   "metadata": {},
   "outputs": [
    {
     "name": "stderr",
     "output_type": "stream",
     "text": [
      "100%|████████████████████████████████████████████████████████████████████████████| 83881/83881 [14:29<00:00, 96.44it/s]\n"
     ]
    }
   ],
   "source": [
    "N = X_train.shape[0]\n",
    "nlp_objects = list()\n",
    "nlp_vectors = np.zeros((N, 300))\n",
    "\n",
    "for i in tqdm(range(N)):\n",
    "    nlp_objects.append(nlp(X_train[i]))\n",
    "    \n",
    "for i in range(N):\n",
    "    nlp_vectors[i,:] = nlp_objects[i].vector\n",
    "    \n",
    "np.savetxt(\"../data/X_treebank_train_embedded_avg_spacy.csv\", nlp_vectors, delimiter=\",\")"
   ]
  },
  {
   "cell_type": "code",
   "execution_count": 5,
   "metadata": {},
   "outputs": [],
   "source": [
    "tfidf_vec = TfidfVectorizer()\n",
    "X_train = tfidf_vec.fit_transform(X_train)\n",
    "index_value={i[1]:i[0] for i in tfidf_vec.vocabulary_.items()}\n",
    "tfidf_scores = {index_value[column]:value for (column,value) in zip(X_train.indices,X_train.data)}\n",
    "\n",
    "# computes the weighted sum of the embedded vectors to yield the sentences embedding\n",
    "for i in range(N):\n",
    "    # get the tokens of the current sentence\n",
    "    tokens = [token.text for token in nlp_objects[i]]\n",
    "    # get the vectors of the current sentence\n",
    "    vectors = np.vstack([token.vector for token in nlp_objects[i]])\n",
    "    # get the weights of the words o the sentence\n",
    "    weights = np.array([tfidf_scores[token.lower()] if token.lower() in tfidf_scores else 0 for token in tokens])\n",
    "    # computes the vector embeding of the sentence\n",
    "    if np.any(weights):\n",
    "        nlp_vectors[i,:] = np.average(vectors, axis = 0, weights=weights)\n",
    "        \n",
    "np.savetxt(\"../data/X_treebank_train_embedded_tfidf_spacy.csv\", nlp_vectors, delimiter=\",\")"
   ]
  },
  {
   "cell_type": "code",
   "execution_count": 6,
   "metadata": {},
   "outputs": [
    {
     "name": "stderr",
     "output_type": "stream",
     "text": [
      "100%|██████████████████████████████████████████████████████████████████████████████| 1821/1821 [00:22<00:00, 81.66it/s]\n"
     ]
    }
   ],
   "source": [
    "N = X_test.shape[0]\n",
    "nlp_objects = list()\n",
    "nlp_vectors = np.zeros((N, 300))\n",
    "\n",
    "for i in tqdm(range(N)):\n",
    "    nlp_objects.append(nlp(X_test[i]))\n",
    "    \n",
    "for i in range(N):\n",
    "    nlp_vectors[i,:] = nlp_objects[i].vector\n",
    "    \n",
    "np.savetxt(\"../data/X_treebank_test_embedded_avg_spacy.csv\", nlp_vectors, delimiter=\",\")"
   ]
  },
  {
   "cell_type": "code",
   "execution_count": 7,
   "metadata": {},
   "outputs": [],
   "source": [
    "tfidf_vec = TfidfVectorizer()\n",
    "X_test = tfidf_vec.fit_transform(X_test)\n",
    "index_value={i[1]:i[0] for i in tfidf_vec.vocabulary_.items()}\n",
    "tfidf_scores = {index_value[column]:value for (column,value) in zip(X_test.indices,X_test.data)}\n",
    "\n",
    "# computes the weighted sum of the embedded vectors to yield the sentences embedding\n",
    "for i in range(N):\n",
    "    # get the tokens of the current sentence\n",
    "    tokens = [token.text for token in nlp_objects[i]]\n",
    "    # get the vectors of the current sentence\n",
    "    vectors = np.vstack([token.vector for token in nlp_objects[i]])\n",
    "    # get the weights of the words o the sentence\n",
    "    weights = np.array([tfidf_scores[token.lower()] if token.lower() in tfidf_scores else 0 for token in tokens])\n",
    "    # computes the vector embeding of the sentence\n",
    "    if np.any(weights):\n",
    "        nlp_vectors[i,:] = np.average(vectors, axis = 0, weights=weights)\n",
    "        \n",
    "np.savetxt(\"../data/X_treebank_test_embedded_tfidf_spacy.csv\", nlp_vectors, delimiter=\",\")"
   ]
  }
 ],
 "metadata": {
  "kernelspec": {
   "display_name": "Python 3",
   "language": "python",
   "name": "python3"
  },
  "language_info": {
   "codemirror_mode": {
    "name": "ipython",
    "version": 3
   },
   "file_extension": ".py",
   "mimetype": "text/x-python",
   "name": "python",
   "nbconvert_exporter": "python",
   "pygments_lexer": "ipython3",
   "version": "3.7.1"
  }
 },
 "nbformat": 4,
 "nbformat_minor": 2
}
