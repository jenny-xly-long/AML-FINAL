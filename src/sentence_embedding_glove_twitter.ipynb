{
 "cells": [
  {
   "cell_type": "code",
   "execution_count": null,
   "metadata": {},
   "outputs": [],
   "source": [
    "import numpy as np\n",
    "from preprocess import preprocess_twitter\n",
    "from standford_twitter_preprocess import tokenize\n",
    "from sklearn.feature_extraction.text import TfidfVectorizer"
   ]
  },
  {
   "cell_type": "code",
   "execution_count": null,
   "metadata": {},
   "outputs": [],
   "source": [
    "# loads data\n",
    "data = preprocess_twitter(preprocess=False)\n",
    "X_train = data[0]\n",
    "y_train = data[1]\n",
    "X_test = data[2]\n",
    "y_test = data[3]"
   ]
  },
  {
   "cell_type": "code",
   "execution_count": null,
   "metadata": {},
   "outputs": [],
   "source": [
    "# Load glove model\n",
    "def loadGloveModel(gloveFile):\n",
    "    print(\"Loading Glove Model\")\n",
    "    f = open(gloveFile,'r', encoding = \"utf8\")\n",
    "    model = {}\n",
    "    for line in f:\n",
    "        splitLine = line.split()\n",
    "        word = splitLine[0]\n",
    "        embedding = np.array([float(val) for val in splitLine[1:]])\n",
    "        model[word] = embedding\n",
    "    print(\"Done.\",len(model),\" words loaded!\")\n",
    "    return model\n",
    "\n",
    "nlp = loadGloveModel(\"../data/glove.twitter.27B.200d.txt\")"
   ]
  },
  {
   "cell_type": "code",
   "execution_count": null,
   "metadata": {},
   "outputs": [],
   "source": [
    "N = X_train.shape[0]\n",
    "nlp_objects = list()\n",
    "nlp_vectors = np.zeros((N, 200))\n",
    "\n",
    "for i in range(N):\n",
    "    nlp_objects.append(np.array([nlp[word] if word in nlp else np.zeros(200) for word in tokenize(X_train[i]).split(' ')]))\n",
    "\n",
    "for i in range(N):\n",
    "    if nlp_objects[i].any():\n",
    "        nlp_vectors[i,:] = np.mean(nlp_objects[i], axis = 0)\n",
    "\n",
    "np.savetxt(\"../data/X_twitter_train_embedded_avg_glove.csv\", nlp_vectors, delimiter=\",\")"
   ]
  },
  {
   "cell_type": "code",
   "execution_count": null,
   "metadata": {},
   "outputs": [],
   "source": [
    "X_train_raw = X_train\n",
    "tfidf_vec = TfidfVectorizer()\n",
    "X_train = tfidf_vec.fit_transform(X_train)\n",
    "index_value={i[1]:i[0] for i in tfidf_vec.vocabulary_.items()}\n",
    "tfidf_scores = {index_value[column]:value for (column,value) in zip(X_train.indices,X_train.data)}\n",
    "\n",
    "# computes the weighted sum of the embedded vectors to yield the sentences embedding\n",
    "for i in range(N):\n",
    "    # get the tokens of the current sentence\n",
    "    tokens = [token for token in X_train_raw[i]]\n",
    "    # get the vectors of the current sentence\n",
    "    vectors = np.vstack([v for v in nlp_objects[i]])\n",
    "    # get the weights of the words o the sentence\n",
    "    weights = np.array([tfidf_scores[token.lower()] if token.lower() in tfidf_scores else 0 for token in tokens])\n",
    "    # computes the vector embeding of the sentence\n",
    "    if np.any(weights):\n",
    "        nlp_vectors[i,:] = np.average(vectors, axis = 0, weights=weights) #normalizes by sum of weights\n",
    "        \n",
    "np.savetxt(\"../data/X_twitter_train_embedded_tfidf_glove.csv\", nlp_vectors, delimiter=\",\")"
   ]
  },
  {
   "cell_type": "code",
   "execution_count": null,
   "metadata": {},
   "outputs": [],
   "source": [
    "N = X_test.shape[0]\n",
    "nlp_objects = list()\n",
    "nlp_vectors = np.zeros((N, 200))\n",
    "\n",
    "for i in range(N):\n",
    "    nlp_objects.append(np.array([nlp[word] if word in nlp else np.zeros(200) for word in tokenize(X_test[i]).split(' ')]))\n",
    "\n",
    "for i in range(N):\n",
    "    if nlp_objects[i].any():\n",
    "        nlp_vectors[i,:] = np.mean(nlp_objects[i], axis = 0)\n",
    "\n",
    "np.savetxt(\"../data/X_twitter_test_embedded_avg_glove.csv\", nlp_vectors, delimiter=\",\")"
   ]
  },
  {
   "cell_type": "code",
   "execution_count": null,
   "metadata": {},
   "outputs": [],
   "source": [
    "X_test_raw = X_test\n",
    "tfidf_vec = TfidfVectorizer()\n",
    "X_test = tfidf_vec.fit_transform(X_test)\n",
    "index_value={i[1]:i[0] for i in tfidf_vec.vocabulary_.items()}\n",
    "tfidf_scores = {index_value[column]:value for (column,value) in zip(X_test.indices,X_test.data)}\n",
    "\n",
    "# computes the weighted sum of the embedded vectors to yield the sentences embedding\n",
    "for i in range(N):\n",
    "    # get the tokens of the current sentence\n",
    "    tokens = [token for token in X_test_raw[i]]\n",
    "    # get the vectors of the current sentence\n",
    "    vectors = np.vstack([v for v in nlp_objects[i]])\n",
    "    # get the weights of the words o the sentence\n",
    "    weights = np.array([tfidf_scores[token.lower()] if token.lower() in tfidf_scores else 0 for token in tokens])\n",
    "    # computes the vector embeding of the sentence\n",
    "    if np.any(weights):\n",
    "        nlp_vectors[i,:] = np.average(vectors, axis = 0, weights=weights) #normalizes by sum of weights\n",
    "        \n",
    "np.savetxt(\"../data/X_twitter_test_embedded_tfidf_glove.csv\", nlp_vectors, delimiter=\",\")"
   ]
  }
 ],
 "metadata": {
  "kernelspec": {
   "display_name": "Python 3",
   "language": "python",
   "name": "python3"
  },
  "language_info": {
   "codemirror_mode": {
    "name": "ipython",
    "version": 3
   },
   "file_extension": ".py",
   "mimetype": "text/x-python",
   "name": "python",
   "nbconvert_exporter": "python",
   "pygments_lexer": "ipython3",
   "version": "3.7.1"
  }
 },
 "nbformat": 4,
 "nbformat_minor": 2
}
