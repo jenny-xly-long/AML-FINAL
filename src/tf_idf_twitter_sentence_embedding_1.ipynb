{
 "cells": [
  {
   "cell_type": "code",
   "execution_count": 1,
   "metadata": {},
   "outputs": [],
   "source": [
    "import numpy as np\n",
    "import spacy\n",
    "from preprocess import preprocess_twitter\n",
    "from sentence_embed import sentence_embed"
   ]
  },
  {
   "cell_type": "code",
   "execution_count": 2,
   "metadata": {},
   "outputs": [],
   "source": [
    "# loads data\n",
    "data = preprocess_twitter()\n",
    "X_train = data[0]\n",
    "X_test = data[4]"
   ]
  },
  {
   "cell_type": "code",
   "execution_count": 3,
   "metadata": {},
   "outputs": [
    {
     "name": "stderr",
     "output_type": "stream",
     "text": [
      "100%|████████████████████████████████████████████████████████████████████████████| 80000/80000 [15:15<00:00, 87.36it/s]\n",
      "100%|████████████████████████████████████████████████████████████████████████████████| 498/498 [00:05<00:00, 81.85it/s]\n"
     ]
    }
   ],
   "source": [
    "# Maps the training data to its embedding\n",
    "X_train = sentence_embed(X_train, \"tf-idf\")\n",
    "# Maps the test data to its embedding\n",
    "X_test = sentence_embed(X_test, \"tf-idf\")"
   ]
  },
  {
   "cell_type": "code",
   "execution_count": 4,
   "metadata": {},
   "outputs": [],
   "source": [
    "# Saves the computed embeddings\n",
    "np.savetxt(\"../data/training_twitter_embedded_tf_idf.csv\", X_train, delimiter=\",\")\n",
    "np.savetxt(\"../data/test_twitter_embedded_tf_idf.csv\", X_test, delimiter=\",\")"
   ]
  }
 ],
 "metadata": {
  "kernelspec": {
   "display_name": "Python 3",
   "language": "python",
   "name": "python3"
  },
  "language_info": {
   "codemirror_mode": {
    "name": "ipython",
    "version": 3
   },
   "file_extension": ".py",
   "mimetype": "text/x-python",
   "name": "python",
   "nbconvert_exporter": "python",
   "pygments_lexer": "ipython3",
   "version": "3.7.1"
  }
 },
 "nbformat": 4,
 "nbformat_minor": 2
}
