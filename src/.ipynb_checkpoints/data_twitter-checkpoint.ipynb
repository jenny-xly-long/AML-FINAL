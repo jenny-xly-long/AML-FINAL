{
 "cells": [
  {
   "cell_type": "code",
   "execution_count": 1,
   "metadata": {},
   "outputs": [],
   "source": [
    "import numpy as np\n",
    "import pandas as pd"
   ]
  },
  {
   "cell_type": "code",
   "execution_count": null,
   "metadata": {},
   "outputs": [],
   "source": [
    "# loads the training set\n",
    "data = pd.read_csv(\"../data/train_twitter.csv\", encoding = \"latin-1\", header = None)\n",
    "data = data.sample(n=80000)\n",
    "X_train = data.iloc[:,5].values\n",
    "y_train = data.iloc[:,0].values\n",
    "y_train[y_train == 4] = 1"
   ]
  },
  {
   "cell_type": "code",
   "execution_count": null,
   "metadata": {},
   "outputs": [],
   "source": [
    "# Loads the test set\n",
    "data = pd.read_csv(\"../data/test_twitter.csv\", encoding = \"latin-1\", header = None)\n",
    "X_test = data.iloc[:,5].values\n",
    "y_test = data.iloc[:,0].values\n",
    "y_test[y_test == 4] = 1\n",
    "\n",
    "# Removes the neutral tweets in the test set\n",
    "indices = y_test != 2\n",
    "X_test = X_test[indices]\n",
    "y_test = y_test[indices]"
   ]
  },
  {
   "cell_type": "code",
   "execution_count": 25,
   "metadata": {},
   "outputs": [],
   "source": [
    "np.savetxt(\"../data/X_twitter_train.csv\", X_train, delimiter=\",\", fmt=\"%s\", encoding = 'latin-1')\n",
    "np.savetxt(\"../data/y_twitter_train.csv\", y_train, delimiter=\",\")\n",
    "np.savetxt(\"../data/X_twitter_test.csv\", X_test, delimiter=\",\", fmt=\"%s\", encoding = 'latin-1')\n",
    "np.savetxt(\"../data/y_twitter_test.csv\", y_test, delimiter=\",\")"
   ]
  }
 ],
 "metadata": {
  "kernelspec": {
   "display_name": "Python 3",
   "language": "python",
   "name": "python3"
  },
  "language_info": {
   "codemirror_mode": {
    "name": "ipython",
    "version": 3
   },
   "file_extension": ".py",
   "mimetype": "text/x-python",
   "name": "python",
   "nbconvert_exporter": "python",
   "pygments_lexer": "ipython3",
   "version": "3.7.1"
  }
 },
 "nbformat": 4,
 "nbformat_minor": 2
}
