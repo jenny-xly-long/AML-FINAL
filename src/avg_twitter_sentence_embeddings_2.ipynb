{
 "cells": [
  {
   "cell_type": "code",
   "execution_count": 1,
   "metadata": {},
   "outputs": [],
   "source": [
    "import numpy as np\n",
    "import spacy\n",
    "from preprocess import preprocess_twitter\n",
    "from sentence_embed import sentence_embed\n",
    "from results import results"
   ]
  },
  {
   "cell_type": "code",
   "execution_count": 2,
   "metadata": {},
   "outputs": [],
   "source": [
    "# loads data\n",
    "data = preprocess_twitter()\n",
    "X_train = data[0]\n",
    "y_train = data[1]\n",
    "X_test = data[4]\n",
    "y_test = data[5]"
   ]
  },
  {
   "cell_type": "code",
   "execution_count": 3,
   "metadata": {},
   "outputs": [],
   "source": [
    "# Loads the embedding of the training data\n",
    "X_train = np.genfromtxt('../data/training_twitter_embedded_avg.csv', delimiter=\",\")\n",
    "# Loads the embedding of the test data\n",
    "X_test = np.genfromtxt('../data/test_twitter_embedded_avg.csv', delimiter=\",\")"
   ]
  },
  {
   "cell_type": "code",
   "execution_count": 6,
   "metadata": {},
   "outputs": [
    {
     "name": "stdout",
     "output_type": "stream",
     "text": [
      "  > Logistic Regression: \n",
      "  > Evaluating...\n",
      "    Best parameters: {'C': 100, 'penalty': 'l2'} with score: 0.50205\n",
      "  > Training...\n",
      "  > Testing...\n",
      "    Test accuracy: 0.36947791164658633\n",
      "  > Linear SVM: \n",
      "  > Evaluating...\n"
     ]
    },
    {
     "name": "stderr",
     "output_type": "stream",
     "text": [
      "C:\\Users\\Ayoub Elhanchi\\Anaconda3\\lib\\site-packages\\sklearn\\svm\\base.py:922: ConvergenceWarning: Liblinear failed to converge, increase the number of iterations.\n",
      "  \"the number of iterations.\", ConvergenceWarning)\n",
      "C:\\Users\\Ayoub Elhanchi\\Anaconda3\\lib\\site-packages\\sklearn\\svm\\base.py:922: ConvergenceWarning: Liblinear failed to converge, increase the number of iterations.\n",
      "  \"the number of iterations.\", ConvergenceWarning)\n",
      "C:\\Users\\Ayoub Elhanchi\\Anaconda3\\lib\\site-packages\\sklearn\\svm\\base.py:922: ConvergenceWarning: Liblinear failed to converge, increase the number of iterations.\n",
      "  \"the number of iterations.\", ConvergenceWarning)\n",
      "C:\\Users\\Ayoub Elhanchi\\Anaconda3\\lib\\site-packages\\sklearn\\svm\\base.py:922: ConvergenceWarning: Liblinear failed to converge, increase the number of iterations.\n",
      "  \"the number of iterations.\", ConvergenceWarning)\n",
      "C:\\Users\\Ayoub Elhanchi\\Anaconda3\\lib\\site-packages\\sklearn\\svm\\base.py:922: ConvergenceWarning: Liblinear failed to converge, increase the number of iterations.\n",
      "  \"the number of iterations.\", ConvergenceWarning)\n",
      "C:\\Users\\Ayoub Elhanchi\\Anaconda3\\lib\\site-packages\\sklearn\\svm\\base.py:922: ConvergenceWarning: Liblinear failed to converge, increase the number of iterations.\n",
      "  \"the number of iterations.\", ConvergenceWarning)\n"
     ]
    },
    {
     "name": "stdout",
     "output_type": "stream",
     "text": [
      "    Best parameters: {'C': 0.01, 'penalty': 'l2'} with score: 0.5025375\n",
      "  > Training...\n",
      "  > Testing...\n",
      "    Test accuracy: 0.3433734939759036\n",
      "  > Gaussian Naive Bayes: \n",
      "  > Evaluating...\n",
      "    Best parameters: {'priors': (0.25, 0.75)} with score: 0.501275\n",
      "  > Training...\n",
      "  > Testing...\n",
      "    Test accuracy: 0.3453815261044177\n"
     ]
    }
   ],
   "source": [
    "# train and test the models\n",
    "models = results(X_train, y_train, X_test, y_test)"
   ]
  }
 ],
 "metadata": {
  "kernelspec": {
   "display_name": "Python 3",
   "language": "python",
   "name": "python3"
  },
  "language_info": {
   "codemirror_mode": {
    "name": "ipython",
    "version": 3
   },
   "file_extension": ".py",
   "mimetype": "text/x-python",
   "name": "python",
   "nbconvert_exporter": "python",
   "pygments_lexer": "ipython3",
   "version": "3.7.1"
  }
 },
 "nbformat": 4,
 "nbformat_minor": 2
}
