{
 "cells": [
  {
   "cell_type": "code",
   "execution_count": 60,
   "metadata": {},
   "outputs": [],
   "source": [
    "import os\n",
    "import re\n",
    "import random\n",
    "import pandas as pd\n",
    "import sklearn\n",
    "from sklearn.datasets import load_files\n",
    "from sklearn.feature_extraction.text import CountVectorizer\n",
    "from sklearn.feature_extraction.text import TfidfVectorizer\n",
    "from sklearn.preprocessing import Normalizer\n",
    "from sklearn.feature_selection import SelectPercentile, chi2,mutual_info_classif,f_classif\n",
    "from sklearn.svm import LinearSVC\n",
    "from sklearn.naive_bayes import MultinomialNB\n",
    "from sklearn.pipeline import Pipeline\n",
    "\n",
    "from sklearn.model_selection import GridSearchCV\n",
    "from sklearn import metrics\n",
    "from sklearn.metrics import accuracy_score"
   ]
  },
  {
   "cell_type": "code",
   "execution_count": 47,
   "metadata": {},
   "outputs": [],
   "source": [
    " # Remove all non-alphanumeric characters\n",
    "    X_train = [re.sub(r'\\W+', ' ', text) for text in X_train]\n",
    "    #X_train = [re.sub('@[^\\s]+','',text) for text in X_train]\n",
    "    X_train = [re.sub(r'http\\S+', '', text) for text in X_train]\n",
    "    \n",
    "    X_val = [re.sub(r'\\W+', ' ', text) for text in X_val]\n",
    "    X_val = [re.sub('@[^\\s]+','',text) for text in X_val]\n",
    "    X_val = [re.sub(r'http\\S+', '', text) for text in X_val]\n",
    "    \n",
    "    X_test = [re.sub(r'\\W+', ' ', text) for text in X_test]\n",
    "    X_test = [re.sub('@[^\\s]+','',text) for text in X_test]\n",
    "    X_test = [re.sub(r'http\\S+', '', text) for text in X_test]\n",
    "\n"
   ]
  },
  {
   "cell_type": "code",
   "execution_count": 51,
   "metadata": {},
   "outputs": [
    {
     "data": {
      "text/plain": [
       "'yoouu are suuch a piig'"
      ]
     },
     "execution_count": 51,
     "metadata": {},
     "output_type": "execute_result"
    }
   ],
   "source": [
    "string = \"yoooooouuuuu are suuuch a piiiig\"\n",
    "re.sub(r'(\\w)\\1+',r'\\1\\1', string)"
   ]
  },
  {
   "cell_type": "code",
   "execution_count": 57,
   "metadata": {},
   "outputs": [],
   "source": [
    "import pandas as pd\n",
    "\n",
    "def preprocess_twitter():\n",
    "\n",
    "    # loads the training set\n",
    "    data = pd.read_csv(\"./twitter/train.csv\", encoding = \"latin-1\", header = None)\n",
    "    train = data.sample(n=80000)\n",
    "    val = data.sample(n=16000)\n",
    "\n",
    "    X_train = train.iloc[:,-1].values\n",
    "    y_train = train.iloc[:,0].values\n",
    "    y_train[y_train == 4] = 1\n",
    "\n",
    "    X_val = val.iloc[:,-1].values\n",
    "    y_val = val.iloc[:,0].values\n",
    "    y_val[y_val == 4] = 1\n",
    "\n",
    "    # Loads the test set\n",
    "    data = pd.read_csv(\"./twitter/test.csv\", encoding = \"latin-1\", header = None)\n",
    "    X_test = data.iloc[:,5].values\n",
    "    y_test = data.iloc[:,0].values\n",
    "    y_test[y_test == 4] = 1\n",
    "            \n",
    "    # Replace usernames with @USERNAME\n",
    "    username = re.compile(r'@([A-Za-z0-9_]+)')\n",
    "    X_train = [username.sub(\"@USERNAME\", text) for text in X_train]\n",
    "    X_val = [username.sub(\"@USERNAME\", text) for text in X_val]\n",
    "    X_test = [username.sub(\"@USERNAME\", text) for text in X_test]\n",
    "    # Replace urls with URL\n",
    "    url = re.compile(r'http\\S+')\n",
    "    X_train = [url.sub(\"URL.\", text) for text in X_train]\n",
    "    X_val = [url.sub(\"URL.\", text) for text in X_val]\n",
    "    X_test = [url.sub(\"URL.\", text) for text in X_test]\n",
    "    \n",
    "    # Replace repeated characters\n",
    "    X_train = [re.sub(r'(\\w)\\1+',r'\\1\\1', text) for text in X_train]\n",
    "    X_val = [re.sub(r'(\\w)\\1+', r'\\1\\1', text) for text in X_val]\n",
    "    X_test = [re.sub(r'(\\w)\\1+', r'\\1\\1', text) for text in X_test]\n",
    "    \n",
    "    return (X_train, y_train, X_val, y_val, X_test, y_test)"
   ]
  },
  {
   "cell_type": "code",
   "execution_count": 58,
   "metadata": {},
   "outputs": [],
   "source": [
    "X_train, y_train, X_val, y_val, X_test, y_test=preprocess_twitter()"
   ]
  },
  {
   "cell_type": "code",
   "execution_count": 67,
   "metadata": {},
   "outputs": [
    {
     "name": "stdout",
     "output_type": "stream",
     "text": [
      "              precision    recall  f1-score   support\n",
      "\n",
      "           0       0.77      0.82      0.79      8057\n",
      "           1       0.80      0.76      0.78      7943\n",
      "\n",
      "   micro avg       0.79      0.79      0.79     16000\n",
      "   macro avg       0.79      0.79      0.79     16000\n",
      "weighted avg       0.79      0.79      0.79     16000\n",
      "\n"
     ]
    }
   ],
   "source": [
    "pclf = Pipeline([\n",
    "    ('vect', CountVectorizer(binary=True, stop_words=None, ngram_range=(1,2))),\n",
    "    ('norm', Normalizer()),\n",
    "    ('clf', MultinomialNB()),\n",
    "])\n",
    "\n",
    "pclf.fit(X_train, y_train)\n",
    "y_pred = pclf.predict(X_val)\n",
    "print(metrics.classification_report(y_val, y_pred))"
   ]
  },
  {
   "cell_type": "code",
   "execution_count": 66,
   "metadata": {},
   "outputs": [
    {
     "name": "stdout",
     "output_type": "stream",
     "text": [
      "              precision    recall  f1-score   support\n",
      "\n",
      "           0       0.81      0.80      0.80      8057\n",
      "           1       0.80      0.81      0.80      7943\n",
      "\n",
      "   micro avg       0.80      0.80      0.80     16000\n",
      "   macro avg       0.80      0.80      0.80     16000\n",
      "weighted avg       0.80      0.80      0.80     16000\n",
      "\n"
     ]
    }
   ],
   "source": [
    "pclf = Pipeline([\n",
    "    ('vect', CountVectorizer(binary=True, stop_words=None, ngram_range=(1,1))),\n",
    "    ('norm', Normalizer()),\n",
    "    ('clf', LinearSVC(penalty = 'l2', tol= 1e-2, random_state=0, C=1)),\n",
    "])\n",
    "\n",
    "pclf.fit(X_train, y_train)\n",
    "y_pred = pclf.predict(X_val)\n",
    "print(metrics.classification_report(y_val, y_pred))"
   ]
  },
  {
   "cell_type": "code",
   "execution_count": 40,
   "metadata": {},
   "outputs": [],
   "source": [
    "# Pipeline and Grid search(feature extraction - normalization - feature selection - classification)\n",
    "svm = Pipeline([(\"tfidf\", TfidfVectorizer(ngram_range=(1,2),sublinear_tf=True)),\n",
    "                    (\"normalizer\", Normalizer()),\n",
    "                      (\"selectFeature\",SelectPercentile(score_func=chi2)),\n",
    "                    (\"svc\", LinearSVC(penalty = 'l2', tol= 1e-2, random_state=0)),\n",
    "                   ])\n",
    "\n",
    "parameters = {\n",
    "    'svc__C':[1e-5,1e-3,1,1e3,1e5,1e7,1e10,1e15],\n",
    "    'selectFeature__percentile':[80,90, 95]\n",
    "}"
   ]
  },
  {
   "cell_type": "code",
   "execution_count": 41,
   "metadata": {},
   "outputs": [
    {
     "name": "stdout",
     "output_type": "stream",
     "text": [
      "Fitting 5 folds for each of 24 candidates, totalling 120 fits\n",
      "[CV] selectFeature__percentile=80, svc__C=1e-05 ......................\n"
     ]
    },
    {
     "name": "stderr",
     "output_type": "stream",
     "text": [
      "[Parallel(n_jobs=1)]: Using backend SequentialBackend with 1 concurrent workers.\n"
     ]
    },
    {
     "name": "stdout",
     "output_type": "stream",
     "text": [
      "[CV]  selectFeature__percentile=80, svc__C=1e-05, score=0.5034375, total=   6.0s\n",
      "[CV] selectFeature__percentile=80, svc__C=1e-05 ......................\n"
     ]
    },
    {
     "name": "stderr",
     "output_type": "stream",
     "text": [
      "[Parallel(n_jobs=1)]: Done   1 out of   1 | elapsed:    9.1s remaining:    0.0s\n"
     ]
    },
    {
     "name": "stdout",
     "output_type": "stream",
     "text": [
      "[CV]  selectFeature__percentile=80, svc__C=1e-05, score=0.50325, total=   5.9s\n",
      "[CV] selectFeature__percentile=80, svc__C=1e-05 ......................\n"
     ]
    },
    {
     "name": "stderr",
     "output_type": "stream",
     "text": [
      "[Parallel(n_jobs=1)]: Done   2 out of   2 | elapsed:   18.0s remaining:    0.0s\n"
     ]
    },
    {
     "name": "stdout",
     "output_type": "stream",
     "text": [
      "[CV]  selectFeature__percentile=80, svc__C=1e-05, score=0.503375, total=   6.0s\n",
      "[CV] selectFeature__percentile=80, svc__C=1e-05 ......................\n",
      "[CV]  selectFeature__percentile=80, svc__C=1e-05, score=0.5034375, total=   6.0s\n",
      "[CV] selectFeature__percentile=80, svc__C=1e-05 ......................\n",
      "[CV]  selectFeature__percentile=80, svc__C=1e-05, score=0.50325, total=   6.0s\n",
      "[CV] selectFeature__percentile=80, svc__C=0.001 ......................\n",
      "[CV]  selectFeature__percentile=80, svc__C=0.001, score=0.721125, total=   6.0s\n",
      "[CV] selectFeature__percentile=80, svc__C=0.001 ......................\n",
      "[CV]  selectFeature__percentile=80, svc__C=0.001, score=0.729, total=   6.0s\n",
      "[CV] selectFeature__percentile=80, svc__C=0.001 ......................\n",
      "[CV]  selectFeature__percentile=80, svc__C=0.001, score=0.7330625, total=   6.0s\n",
      "[CV] selectFeature__percentile=80, svc__C=0.001 ......................\n",
      "[CV]  selectFeature__percentile=80, svc__C=0.001, score=0.7193125, total=   5.9s\n",
      "[CV] selectFeature__percentile=80, svc__C=0.001 ......................\n",
      "[CV]  selectFeature__percentile=80, svc__C=0.001, score=0.726, total=   6.1s\n",
      "[CV] selectFeature__percentile=80, svc__C=1 ..........................\n",
      "[CV]  selectFeature__percentile=80, svc__C=1, score=0.7908125, total=   6.6s\n",
      "[CV] selectFeature__percentile=80, svc__C=1 ..........................\n",
      "[CV]  selectFeature__percentile=80, svc__C=1, score=0.789375, total=   6.5s\n",
      "[CV] selectFeature__percentile=80, svc__C=1 ..........................\n",
      "[CV]  selectFeature__percentile=80, svc__C=1, score=0.796125, total=   6.6s\n",
      "[CV] selectFeature__percentile=80, svc__C=1 ..........................\n",
      "[CV]  selectFeature__percentile=80, svc__C=1, score=0.78575, total=   6.7s\n",
      "[CV] selectFeature__percentile=80, svc__C=1 ..........................\n",
      "[CV]  selectFeature__percentile=80, svc__C=1, score=0.79425, total=   6.5s\n",
      "[CV] selectFeature__percentile=80, svc__C=1000.0 .....................\n"
     ]
    },
    {
     "name": "stderr",
     "output_type": "stream",
     "text": [
      "/Users/Jenny/anaconda3/lib/python3.7/site-packages/sklearn/svm/base.py:922: ConvergenceWarning: Liblinear failed to converge, increase the number of iterations.\n",
      "  \"the number of iterations.\", ConvergenceWarning)\n"
     ]
    },
    {
     "name": "stdout",
     "output_type": "stream",
     "text": [
      "[CV]  selectFeature__percentile=80, svc__C=1000.0, score=0.7444375, total=  31.2s\n",
      "[CV] selectFeature__percentile=80, svc__C=1000.0 .....................\n"
     ]
    },
    {
     "name": "stderr",
     "output_type": "stream",
     "text": [
      "/Users/Jenny/anaconda3/lib/python3.7/site-packages/sklearn/svm/base.py:922: ConvergenceWarning: Liblinear failed to converge, increase the number of iterations.\n",
      "  \"the number of iterations.\", ConvergenceWarning)\n"
     ]
    },
    {
     "name": "stdout",
     "output_type": "stream",
     "text": [
      "[CV]  selectFeature__percentile=80, svc__C=1000.0, score=0.7408125, total=  30.3s\n",
      "[CV] selectFeature__percentile=80, svc__C=1000.0 .....................\n"
     ]
    },
    {
     "name": "stderr",
     "output_type": "stream",
     "text": [
      "/Users/Jenny/anaconda3/lib/python3.7/site-packages/sklearn/svm/base.py:922: ConvergenceWarning: Liblinear failed to converge, increase the number of iterations.\n",
      "  \"the number of iterations.\", ConvergenceWarning)\n"
     ]
    },
    {
     "name": "stdout",
     "output_type": "stream",
     "text": [
      "[CV]  selectFeature__percentile=80, svc__C=1000.0, score=0.7473125, total=  30.9s\n",
      "[CV] selectFeature__percentile=80, svc__C=1000.0 .....................\n"
     ]
    },
    {
     "name": "stderr",
     "output_type": "stream",
     "text": [
      "/Users/Jenny/anaconda3/lib/python3.7/site-packages/sklearn/svm/base.py:922: ConvergenceWarning: Liblinear failed to converge, increase the number of iterations.\n",
      "  \"the number of iterations.\", ConvergenceWarning)\n"
     ]
    },
    {
     "name": "stdout",
     "output_type": "stream",
     "text": [
      "[CV]  selectFeature__percentile=80, svc__C=1000.0, score=0.732625, total=  30.7s\n",
      "[CV] selectFeature__percentile=80, svc__C=1000.0 .....................\n"
     ]
    },
    {
     "name": "stderr",
     "output_type": "stream",
     "text": [
      "/Users/Jenny/anaconda3/lib/python3.7/site-packages/sklearn/svm/base.py:922: ConvergenceWarning: Liblinear failed to converge, increase the number of iterations.\n",
      "  \"the number of iterations.\", ConvergenceWarning)\n"
     ]
    },
    {
     "name": "stdout",
     "output_type": "stream",
     "text": [
      "[CV]  selectFeature__percentile=80, svc__C=1000.0, score=0.7414375, total=  30.5s\n",
      "[CV] selectFeature__percentile=80, svc__C=100000.0 ...................\n"
     ]
    },
    {
     "name": "stderr",
     "output_type": "stream",
     "text": [
      "/Users/Jenny/anaconda3/lib/python3.7/site-packages/sklearn/svm/base.py:922: ConvergenceWarning: Liblinear failed to converge, increase the number of iterations.\n",
      "  \"the number of iterations.\", ConvergenceWarning)\n"
     ]
    },
    {
     "name": "stdout",
     "output_type": "stream",
     "text": [
      "[CV]  selectFeature__percentile=80, svc__C=100000.0, score=0.743375, total=  31.3s\n",
      "[CV] selectFeature__percentile=80, svc__C=100000.0 ...................\n"
     ]
    },
    {
     "name": "stderr",
     "output_type": "stream",
     "text": [
      "/Users/Jenny/anaconda3/lib/python3.7/site-packages/sklearn/svm/base.py:922: ConvergenceWarning: Liblinear failed to converge, increase the number of iterations.\n",
      "  \"the number of iterations.\", ConvergenceWarning)\n"
     ]
    },
    {
     "name": "stdout",
     "output_type": "stream",
     "text": [
      "[CV]  selectFeature__percentile=80, svc__C=100000.0, score=0.7379375, total=  31.2s\n",
      "[CV] selectFeature__percentile=80, svc__C=100000.0 ...................\n"
     ]
    },
    {
     "name": "stderr",
     "output_type": "stream",
     "text": [
      "/Users/Jenny/anaconda3/lib/python3.7/site-packages/sklearn/svm/base.py:922: ConvergenceWarning: Liblinear failed to converge, increase the number of iterations.\n",
      "  \"the number of iterations.\", ConvergenceWarning)\n"
     ]
    },
    {
     "name": "stdout",
     "output_type": "stream",
     "text": [
      "[CV]  selectFeature__percentile=80, svc__C=100000.0, score=0.744375, total=  31.1s\n",
      "[CV] selectFeature__percentile=80, svc__C=100000.0 ...................\n"
     ]
    },
    {
     "name": "stderr",
     "output_type": "stream",
     "text": [
      "/Users/Jenny/anaconda3/lib/python3.7/site-packages/sklearn/svm/base.py:922: ConvergenceWarning: Liblinear failed to converge, increase the number of iterations.\n",
      "  \"the number of iterations.\", ConvergenceWarning)\n"
     ]
    },
    {
     "name": "stdout",
     "output_type": "stream",
     "text": [
      "[CV]  selectFeature__percentile=80, svc__C=100000.0, score=0.7283125, total=  30.7s\n",
      "[CV] selectFeature__percentile=80, svc__C=100000.0 ...................\n"
     ]
    },
    {
     "name": "stderr",
     "output_type": "stream",
     "text": [
      "/Users/Jenny/anaconda3/lib/python3.7/site-packages/sklearn/svm/base.py:922: ConvergenceWarning: Liblinear failed to converge, increase the number of iterations.\n",
      "  \"the number of iterations.\", ConvergenceWarning)\n"
     ]
    },
    {
     "name": "stdout",
     "output_type": "stream",
     "text": [
      "[CV]  selectFeature__percentile=80, svc__C=100000.0, score=0.7391875, total=  32.2s\n",
      "[CV] selectFeature__percentile=80, svc__C=10000000.0 .................\n"
     ]
    },
    {
     "name": "stderr",
     "output_type": "stream",
     "text": [
      "/Users/Jenny/anaconda3/lib/python3.7/site-packages/sklearn/svm/base.py:922: ConvergenceWarning: Liblinear failed to converge, increase the number of iterations.\n",
      "  \"the number of iterations.\", ConvergenceWarning)\n"
     ]
    },
    {
     "name": "stdout",
     "output_type": "stream",
     "text": [
      "[CV]  selectFeature__percentile=80, svc__C=10000000.0, score=0.74325, total=  31.4s\n",
      "[CV] selectFeature__percentile=80, svc__C=10000000.0 .................\n"
     ]
    },
    {
     "name": "stderr",
     "output_type": "stream",
     "text": [
      "/Users/Jenny/anaconda3/lib/python3.7/site-packages/sklearn/svm/base.py:922: ConvergenceWarning: Liblinear failed to converge, increase the number of iterations.\n",
      "  \"the number of iterations.\", ConvergenceWarning)\n"
     ]
    },
    {
     "name": "stdout",
     "output_type": "stream",
     "text": [
      "[CV]  selectFeature__percentile=80, svc__C=10000000.0, score=0.7371875, total=  31.4s\n",
      "[CV] selectFeature__percentile=80, svc__C=10000000.0 .................\n"
     ]
    },
    {
     "name": "stderr",
     "output_type": "stream",
     "text": [
      "/Users/Jenny/anaconda3/lib/python3.7/site-packages/sklearn/svm/base.py:922: ConvergenceWarning: Liblinear failed to converge, increase the number of iterations.\n",
      "  \"the number of iterations.\", ConvergenceWarning)\n"
     ]
    },
    {
     "name": "stdout",
     "output_type": "stream",
     "text": [
      "[CV]  selectFeature__percentile=80, svc__C=10000000.0, score=0.7444375, total=  31.2s\n",
      "[CV] selectFeature__percentile=80, svc__C=10000000.0 .................\n"
     ]
    },
    {
     "name": "stderr",
     "output_type": "stream",
     "text": [
      "/Users/Jenny/anaconda3/lib/python3.7/site-packages/sklearn/svm/base.py:922: ConvergenceWarning: Liblinear failed to converge, increase the number of iterations.\n",
      "  \"the number of iterations.\", ConvergenceWarning)\n"
     ]
    },
    {
     "name": "stdout",
     "output_type": "stream",
     "text": [
      "[CV]  selectFeature__percentile=80, svc__C=10000000.0, score=0.7295625, total=  31.7s\n",
      "[CV] selectFeature__percentile=80, svc__C=10000000.0 .................\n"
     ]
    },
    {
     "name": "stderr",
     "output_type": "stream",
     "text": [
      "/Users/Jenny/anaconda3/lib/python3.7/site-packages/sklearn/svm/base.py:922: ConvergenceWarning: Liblinear failed to converge, increase the number of iterations.\n",
      "  \"the number of iterations.\", ConvergenceWarning)\n"
     ]
    },
    {
     "name": "stdout",
     "output_type": "stream",
     "text": [
      "[CV]  selectFeature__percentile=80, svc__C=10000000.0, score=0.739125, total=  32.0s\n",
      "[CV] selectFeature__percentile=80, svc__C=10000000000.0 ..............\n"
     ]
    },
    {
     "name": "stderr",
     "output_type": "stream",
     "text": [
      "/Users/Jenny/anaconda3/lib/python3.7/site-packages/sklearn/svm/base.py:922: ConvergenceWarning: Liblinear failed to converge, increase the number of iterations.\n",
      "  \"the number of iterations.\", ConvergenceWarning)\n"
     ]
    },
    {
     "name": "stdout",
     "output_type": "stream",
     "text": [
      "[CV]  selectFeature__percentile=80, svc__C=10000000000.0, score=0.74325, total=  31.8s\n",
      "[CV] selectFeature__percentile=80, svc__C=10000000000.0 ..............\n"
     ]
    },
    {
     "name": "stderr",
     "output_type": "stream",
     "text": [
      "/Users/Jenny/anaconda3/lib/python3.7/site-packages/sklearn/svm/base.py:922: ConvergenceWarning: Liblinear failed to converge, increase the number of iterations.\n",
      "  \"the number of iterations.\", ConvergenceWarning)\n"
     ]
    },
    {
     "name": "stdout",
     "output_type": "stream",
     "text": [
      "[CV]  selectFeature__percentile=80, svc__C=10000000000.0, score=0.7371875, total=  31.0s\n",
      "[CV] selectFeature__percentile=80, svc__C=10000000000.0 ..............\n"
     ]
    },
    {
     "name": "stderr",
     "output_type": "stream",
     "text": [
      "/Users/Jenny/anaconda3/lib/python3.7/site-packages/sklearn/svm/base.py:922: ConvergenceWarning: Liblinear failed to converge, increase the number of iterations.\n",
      "  \"the number of iterations.\", ConvergenceWarning)\n"
     ]
    },
    {
     "name": "stdout",
     "output_type": "stream",
     "text": [
      "[CV]  selectFeature__percentile=80, svc__C=10000000000.0, score=0.7445625, total=  31.0s\n",
      "[CV] selectFeature__percentile=80, svc__C=10000000000.0 ..............\n"
     ]
    },
    {
     "name": "stderr",
     "output_type": "stream",
     "text": [
      "/Users/Jenny/anaconda3/lib/python3.7/site-packages/sklearn/svm/base.py:922: ConvergenceWarning: Liblinear failed to converge, increase the number of iterations.\n",
      "  \"the number of iterations.\", ConvergenceWarning)\n"
     ]
    },
    {
     "name": "stdout",
     "output_type": "stream",
     "text": [
      "[CV]  selectFeature__percentile=80, svc__C=10000000000.0, score=0.7295625, total=  31.2s\n",
      "[CV] selectFeature__percentile=80, svc__C=10000000000.0 ..............\n"
     ]
    },
    {
     "name": "stderr",
     "output_type": "stream",
     "text": [
      "/Users/Jenny/anaconda3/lib/python3.7/site-packages/sklearn/svm/base.py:922: ConvergenceWarning: Liblinear failed to converge, increase the number of iterations.\n",
      "  \"the number of iterations.\", ConvergenceWarning)\n"
     ]
    },
    {
     "name": "stdout",
     "output_type": "stream",
     "text": [
      "[CV]  selectFeature__percentile=80, svc__C=10000000000.0, score=0.739125, total=  38.7s\n",
      "[CV] selectFeature__percentile=80, svc__C=1000000000000000.0 .........\n"
     ]
    },
    {
     "name": "stderr",
     "output_type": "stream",
     "text": [
      "/Users/Jenny/anaconda3/lib/python3.7/site-packages/sklearn/svm/base.py:922: ConvergenceWarning: Liblinear failed to converge, increase the number of iterations.\n",
      "  \"the number of iterations.\", ConvergenceWarning)\n"
     ]
    },
    {
     "name": "stdout",
     "output_type": "stream",
     "text": [
      "[CV]  selectFeature__percentile=80, svc__C=1000000000000000.0, score=0.74325, total=  28.9s\n",
      "[CV] selectFeature__percentile=80, svc__C=1000000000000000.0 .........\n"
     ]
    },
    {
     "name": "stderr",
     "output_type": "stream",
     "text": [
      "/Users/Jenny/anaconda3/lib/python3.7/site-packages/sklearn/svm/base.py:922: ConvergenceWarning: Liblinear failed to converge, increase the number of iterations.\n",
      "  \"the number of iterations.\", ConvergenceWarning)\n"
     ]
    },
    {
     "name": "stdout",
     "output_type": "stream",
     "text": [
      "[CV]  selectFeature__percentile=80, svc__C=1000000000000000.0, score=0.7371875, total=  27.7s\n",
      "[CV] selectFeature__percentile=80, svc__C=1000000000000000.0 .........\n"
     ]
    },
    {
     "name": "stderr",
     "output_type": "stream",
     "text": [
      "/Users/Jenny/anaconda3/lib/python3.7/site-packages/sklearn/svm/base.py:922: ConvergenceWarning: Liblinear failed to converge, increase the number of iterations.\n",
      "  \"the number of iterations.\", ConvergenceWarning)\n"
     ]
    },
    {
     "name": "stdout",
     "output_type": "stream",
     "text": [
      "[CV]  selectFeature__percentile=80, svc__C=1000000000000000.0, score=0.7445625, total=  29.3s\n",
      "[CV] selectFeature__percentile=80, svc__C=1000000000000000.0 .........\n"
     ]
    },
    {
     "name": "stderr",
     "output_type": "stream",
     "text": [
      "/Users/Jenny/anaconda3/lib/python3.7/site-packages/sklearn/svm/base.py:922: ConvergenceWarning: Liblinear failed to converge, increase the number of iterations.\n",
      "  \"the number of iterations.\", ConvergenceWarning)\n"
     ]
    },
    {
     "name": "stdout",
     "output_type": "stream",
     "text": [
      "[CV]  selectFeature__percentile=80, svc__C=1000000000000000.0, score=0.7295625, total=  31.1s\n",
      "[CV] selectFeature__percentile=80, svc__C=1000000000000000.0 .........\n"
     ]
    },
    {
     "name": "stderr",
     "output_type": "stream",
     "text": [
      "/Users/Jenny/anaconda3/lib/python3.7/site-packages/sklearn/svm/base.py:922: ConvergenceWarning: Liblinear failed to converge, increase the number of iterations.\n",
      "  \"the number of iterations.\", ConvergenceWarning)\n"
     ]
    },
    {
     "name": "stdout",
     "output_type": "stream",
     "text": [
      "[CV]  selectFeature__percentile=80, svc__C=1000000000000000.0, score=0.739125, total=  31.1s\n",
      "[CV] selectFeature__percentile=90, svc__C=1e-05 ......................\n",
      "[CV]  selectFeature__percentile=90, svc__C=1e-05, score=0.5034375, total=   5.9s\n",
      "[CV] selectFeature__percentile=90, svc__C=1e-05 ......................\n",
      "[CV]  selectFeature__percentile=90, svc__C=1e-05, score=0.50325, total=   6.0s\n",
      "[CV] selectFeature__percentile=90, svc__C=1e-05 ......................\n",
      "[CV]  selectFeature__percentile=90, svc__C=1e-05, score=0.503375, total=   5.9s\n",
      "[CV] selectFeature__percentile=90, svc__C=1e-05 ......................\n",
      "[CV]  selectFeature__percentile=90, svc__C=1e-05, score=0.5034375, total=   5.9s\n",
      "[CV] selectFeature__percentile=90, svc__C=1e-05 ......................\n",
      "[CV]  selectFeature__percentile=90, svc__C=1e-05, score=0.50325, total=   5.9s\n",
      "[CV] selectFeature__percentile=90, svc__C=0.001 ......................\n",
      "[CV]  selectFeature__percentile=90, svc__C=0.001, score=0.7214375, total=   5.8s\n",
      "[CV] selectFeature__percentile=90, svc__C=0.001 ......................\n",
      "[CV]  selectFeature__percentile=90, svc__C=0.001, score=0.7290625, total=   5.9s\n",
      "[CV] selectFeature__percentile=90, svc__C=0.001 ......................\n",
      "[CV]  selectFeature__percentile=90, svc__C=0.001, score=0.7331875, total=   5.2s\n",
      "[CV] selectFeature__percentile=90, svc__C=0.001 ......................\n",
      "[CV]  selectFeature__percentile=90, svc__C=0.001, score=0.7194375, total=   6.2s\n",
      "[CV] selectFeature__percentile=90, svc__C=0.001 ......................\n",
      "[CV]  selectFeature__percentile=90, svc__C=0.001, score=0.726125, total=   6.1s\n",
      "[CV] selectFeature__percentile=90, svc__C=1 ..........................\n",
      "[CV]  selectFeature__percentile=90, svc__C=1, score=0.7894375, total=   6.8s\n",
      "[CV] selectFeature__percentile=90, svc__C=1 ..........................\n",
      "[CV]  selectFeature__percentile=90, svc__C=1, score=0.7891875, total=   6.7s\n",
      "[CV] selectFeature__percentile=90, svc__C=1 ..........................\n",
      "[CV]  selectFeature__percentile=90, svc__C=1, score=0.795, total=   6.6s\n",
      "[CV] selectFeature__percentile=90, svc__C=1 ..........................\n",
      "[CV]  selectFeature__percentile=90, svc__C=1, score=0.7861875, total=   6.7s\n",
      "[CV] selectFeature__percentile=90, svc__C=1 ..........................\n",
      "[CV]  selectFeature__percentile=90, svc__C=1, score=0.7965, total=   6.8s\n",
      "[CV] selectFeature__percentile=90, svc__C=1000.0 .....................\n"
     ]
    },
    {
     "name": "stderr",
     "output_type": "stream",
     "text": [
      "/Users/Jenny/anaconda3/lib/python3.7/site-packages/sklearn/svm/base.py:922: ConvergenceWarning: Liblinear failed to converge, increase the number of iterations.\n",
      "  \"the number of iterations.\", ConvergenceWarning)\n"
     ]
    },
    {
     "name": "stdout",
     "output_type": "stream",
     "text": [
      "[CV]  selectFeature__percentile=90, svc__C=1000.0, score=0.7543125, total=  32.9s\n",
      "[CV] selectFeature__percentile=90, svc__C=1000.0 .....................\n"
     ]
    },
    {
     "name": "stderr",
     "output_type": "stream",
     "text": [
      "/Users/Jenny/anaconda3/lib/python3.7/site-packages/sklearn/svm/base.py:922: ConvergenceWarning: Liblinear failed to converge, increase the number of iterations.\n",
      "  \"the number of iterations.\", ConvergenceWarning)\n"
     ]
    },
    {
     "name": "stdout",
     "output_type": "stream",
     "text": [
      "[CV]  selectFeature__percentile=90, svc__C=1000.0, score=0.74925, total=  31.8s\n",
      "[CV] selectFeature__percentile=90, svc__C=1000.0 .....................\n"
     ]
    },
    {
     "name": "stderr",
     "output_type": "stream",
     "text": [
      "/Users/Jenny/anaconda3/lib/python3.7/site-packages/sklearn/svm/base.py:922: ConvergenceWarning: Liblinear failed to converge, increase the number of iterations.\n",
      "  \"the number of iterations.\", ConvergenceWarning)\n"
     ]
    },
    {
     "name": "stdout",
     "output_type": "stream",
     "text": [
      "[CV]  selectFeature__percentile=90, svc__C=1000.0, score=0.7550625, total=  32.2s\n",
      "[CV] selectFeature__percentile=90, svc__C=1000.0 .....................\n"
     ]
    },
    {
     "name": "stderr",
     "output_type": "stream",
     "text": [
      "/Users/Jenny/anaconda3/lib/python3.7/site-packages/sklearn/svm/base.py:922: ConvergenceWarning: Liblinear failed to converge, increase the number of iterations.\n",
      "  \"the number of iterations.\", ConvergenceWarning)\n"
     ]
    },
    {
     "name": "stdout",
     "output_type": "stream",
     "text": [
      "[CV]  selectFeature__percentile=90, svc__C=1000.0, score=0.744375, total=  32.7s\n",
      "[CV] selectFeature__percentile=90, svc__C=1000.0 .....................\n"
     ]
    },
    {
     "name": "stderr",
     "output_type": "stream",
     "text": [
      "/Users/Jenny/anaconda3/lib/python3.7/site-packages/sklearn/svm/base.py:922: ConvergenceWarning: Liblinear failed to converge, increase the number of iterations.\n",
      "  \"the number of iterations.\", ConvergenceWarning)\n"
     ]
    },
    {
     "name": "stdout",
     "output_type": "stream",
     "text": [
      "[CV]  selectFeature__percentile=90, svc__C=1000.0, score=0.751875, total=  32.2s\n",
      "[CV] selectFeature__percentile=90, svc__C=100000.0 ...................\n"
     ]
    },
    {
     "name": "stderr",
     "output_type": "stream",
     "text": [
      "/Users/Jenny/anaconda3/lib/python3.7/site-packages/sklearn/svm/base.py:922: ConvergenceWarning: Liblinear failed to converge, increase the number of iterations.\n",
      "  \"the number of iterations.\", ConvergenceWarning)\n"
     ]
    },
    {
     "name": "stdout",
     "output_type": "stream",
     "text": [
      "[CV]  selectFeature__percentile=90, svc__C=100000.0, score=0.752875, total=  32.5s\n",
      "[CV] selectFeature__percentile=90, svc__C=100000.0 ...................\n"
     ]
    },
    {
     "name": "stderr",
     "output_type": "stream",
     "text": [
      "/Users/Jenny/anaconda3/lib/python3.7/site-packages/sklearn/svm/base.py:922: ConvergenceWarning: Liblinear failed to converge, increase the number of iterations.\n",
      "  \"the number of iterations.\", ConvergenceWarning)\n"
     ]
    },
    {
     "name": "stdout",
     "output_type": "stream",
     "text": [
      "[CV]  selectFeature__percentile=90, svc__C=100000.0, score=0.746125, total=  33.6s\n",
      "[CV] selectFeature__percentile=90, svc__C=100000.0 ...................\n"
     ]
    },
    {
     "name": "stderr",
     "output_type": "stream",
     "text": [
      "/Users/Jenny/anaconda3/lib/python3.7/site-packages/sklearn/svm/base.py:922: ConvergenceWarning: Liblinear failed to converge, increase the number of iterations.\n",
      "  \"the number of iterations.\", ConvergenceWarning)\n"
     ]
    },
    {
     "name": "stdout",
     "output_type": "stream",
     "text": [
      "[CV]  selectFeature__percentile=90, svc__C=100000.0, score=0.7525, total=  32.5s\n",
      "[CV] selectFeature__percentile=90, svc__C=100000.0 ...................\n"
     ]
    },
    {
     "name": "stderr",
     "output_type": "stream",
     "text": [
      "/Users/Jenny/anaconda3/lib/python3.7/site-packages/sklearn/svm/base.py:922: ConvergenceWarning: Liblinear failed to converge, increase the number of iterations.\n",
      "  \"the number of iterations.\", ConvergenceWarning)\n"
     ]
    },
    {
     "name": "stdout",
     "output_type": "stream",
     "text": [
      "[CV]  selectFeature__percentile=90, svc__C=100000.0, score=0.7401875, total=  32.9s\n",
      "[CV] selectFeature__percentile=90, svc__C=100000.0 ...................\n"
     ]
    },
    {
     "name": "stderr",
     "output_type": "stream",
     "text": [
      "/Users/Jenny/anaconda3/lib/python3.7/site-packages/sklearn/svm/base.py:922: ConvergenceWarning: Liblinear failed to converge, increase the number of iterations.\n",
      "  \"the number of iterations.\", ConvergenceWarning)\n"
     ]
    },
    {
     "name": "stdout",
     "output_type": "stream",
     "text": [
      "[CV]  selectFeature__percentile=90, svc__C=100000.0, score=0.74975, total=  32.4s\n",
      "[CV] selectFeature__percentile=90, svc__C=10000000.0 .................\n"
     ]
    },
    {
     "name": "stderr",
     "output_type": "stream",
     "text": [
      "/Users/Jenny/anaconda3/lib/python3.7/site-packages/sklearn/svm/base.py:922: ConvergenceWarning: Liblinear failed to converge, increase the number of iterations.\n",
      "  \"the number of iterations.\", ConvergenceWarning)\n"
     ]
    },
    {
     "name": "stdout",
     "output_type": "stream",
     "text": [
      "[CV]  selectFeature__percentile=90, svc__C=10000000.0, score=0.7523125, total=  32.6s\n",
      "[CV] selectFeature__percentile=90, svc__C=10000000.0 .................\n"
     ]
    },
    {
     "name": "stderr",
     "output_type": "stream",
     "text": [
      "/Users/Jenny/anaconda3/lib/python3.7/site-packages/sklearn/svm/base.py:922: ConvergenceWarning: Liblinear failed to converge, increase the number of iterations.\n",
      "  \"the number of iterations.\", ConvergenceWarning)\n"
     ]
    },
    {
     "name": "stdout",
     "output_type": "stream",
     "text": [
      "[CV]  selectFeature__percentile=90, svc__C=10000000.0, score=0.7459375, total=  32.7s\n",
      "[CV] selectFeature__percentile=90, svc__C=10000000.0 .................\n"
     ]
    },
    {
     "name": "stderr",
     "output_type": "stream",
     "text": [
      "/Users/Jenny/anaconda3/lib/python3.7/site-packages/sklearn/svm/base.py:922: ConvergenceWarning: Liblinear failed to converge, increase the number of iterations.\n",
      "  \"the number of iterations.\", ConvergenceWarning)\n"
     ]
    },
    {
     "name": "stdout",
     "output_type": "stream",
     "text": [
      "[CV]  selectFeature__percentile=90, svc__C=10000000.0, score=0.7510625, total=  32.1s\n",
      "[CV] selectFeature__percentile=90, svc__C=10000000.0 .................\n"
     ]
    },
    {
     "name": "stderr",
     "output_type": "stream",
     "text": [
      "/Users/Jenny/anaconda3/lib/python3.7/site-packages/sklearn/svm/base.py:922: ConvergenceWarning: Liblinear failed to converge, increase the number of iterations.\n",
      "  \"the number of iterations.\", ConvergenceWarning)\n"
     ]
    },
    {
     "name": "stdout",
     "output_type": "stream",
     "text": [
      "[CV]  selectFeature__percentile=90, svc__C=10000000.0, score=0.74075, total=  34.0s\n",
      "[CV] selectFeature__percentile=90, svc__C=10000000.0 .................\n"
     ]
    },
    {
     "name": "stderr",
     "output_type": "stream",
     "text": [
      "/Users/Jenny/anaconda3/lib/python3.7/site-packages/sklearn/svm/base.py:922: ConvergenceWarning: Liblinear failed to converge, increase the number of iterations.\n",
      "  \"the number of iterations.\", ConvergenceWarning)\n"
     ]
    },
    {
     "name": "stdout",
     "output_type": "stream",
     "text": [
      "[CV]  selectFeature__percentile=90, svc__C=10000000.0, score=0.7490625, total=  31.9s\n",
      "[CV] selectFeature__percentile=90, svc__C=10000000000.0 ..............\n"
     ]
    },
    {
     "name": "stderr",
     "output_type": "stream",
     "text": [
      "/Users/Jenny/anaconda3/lib/python3.7/site-packages/sklearn/svm/base.py:922: ConvergenceWarning: Liblinear failed to converge, increase the number of iterations.\n",
      "  \"the number of iterations.\", ConvergenceWarning)\n"
     ]
    },
    {
     "name": "stdout",
     "output_type": "stream",
     "text": [
      "[CV]  selectFeature__percentile=90, svc__C=10000000000.0, score=0.7523125, total=  33.4s\n",
      "[CV] selectFeature__percentile=90, svc__C=10000000000.0 ..............\n"
     ]
    },
    {
     "name": "stderr",
     "output_type": "stream",
     "text": [
      "/Users/Jenny/anaconda3/lib/python3.7/site-packages/sklearn/svm/base.py:922: ConvergenceWarning: Liblinear failed to converge, increase the number of iterations.\n",
      "  \"the number of iterations.\", ConvergenceWarning)\n"
     ]
    },
    {
     "name": "stdout",
     "output_type": "stream",
     "text": [
      "[CV]  selectFeature__percentile=90, svc__C=10000000000.0, score=0.7461875, total=  33.3s\n",
      "[CV] selectFeature__percentile=90, svc__C=10000000000.0 ..............\n"
     ]
    },
    {
     "name": "stderr",
     "output_type": "stream",
     "text": [
      "/Users/Jenny/anaconda3/lib/python3.7/site-packages/sklearn/svm/base.py:922: ConvergenceWarning: Liblinear failed to converge, increase the number of iterations.\n",
      "  \"the number of iterations.\", ConvergenceWarning)\n"
     ]
    },
    {
     "name": "stdout",
     "output_type": "stream",
     "text": [
      "[CV]  selectFeature__percentile=90, svc__C=10000000000.0, score=0.752625, total=  32.6s\n",
      "[CV] selectFeature__percentile=90, svc__C=10000000000.0 ..............\n"
     ]
    },
    {
     "name": "stderr",
     "output_type": "stream",
     "text": [
      "/Users/Jenny/anaconda3/lib/python3.7/site-packages/sklearn/svm/base.py:922: ConvergenceWarning: Liblinear failed to converge, increase the number of iterations.\n",
      "  \"the number of iterations.\", ConvergenceWarning)\n"
     ]
    },
    {
     "name": "stdout",
     "output_type": "stream",
     "text": [
      "[CV]  selectFeature__percentile=90, svc__C=10000000000.0, score=0.74075, total=  32.2s\n",
      "[CV] selectFeature__percentile=90, svc__C=10000000000.0 ..............\n"
     ]
    },
    {
     "name": "stderr",
     "output_type": "stream",
     "text": [
      "/Users/Jenny/anaconda3/lib/python3.7/site-packages/sklearn/svm/base.py:922: ConvergenceWarning: Liblinear failed to converge, increase the number of iterations.\n",
      "  \"the number of iterations.\", ConvergenceWarning)\n"
     ]
    },
    {
     "name": "stdout",
     "output_type": "stream",
     "text": [
      "[CV]  selectFeature__percentile=90, svc__C=10000000000.0, score=0.7490625, total=  32.7s\n",
      "[CV] selectFeature__percentile=90, svc__C=1000000000000000.0 .........\n"
     ]
    },
    {
     "name": "stderr",
     "output_type": "stream",
     "text": [
      "/Users/Jenny/anaconda3/lib/python3.7/site-packages/sklearn/svm/base.py:922: ConvergenceWarning: Liblinear failed to converge, increase the number of iterations.\n",
      "  \"the number of iterations.\", ConvergenceWarning)\n"
     ]
    },
    {
     "name": "stdout",
     "output_type": "stream",
     "text": [
      "[CV]  selectFeature__percentile=90, svc__C=1000000000000000.0, score=0.7523125, total=  34.1s\n",
      "[CV] selectFeature__percentile=90, svc__C=1000000000000000.0 .........\n"
     ]
    },
    {
     "name": "stderr",
     "output_type": "stream",
     "text": [
      "/Users/Jenny/anaconda3/lib/python3.7/site-packages/sklearn/svm/base.py:922: ConvergenceWarning: Liblinear failed to converge, increase the number of iterations.\n",
      "  \"the number of iterations.\", ConvergenceWarning)\n"
     ]
    },
    {
     "name": "stdout",
     "output_type": "stream",
     "text": [
      "[CV]  selectFeature__percentile=90, svc__C=1000000000000000.0, score=0.7461875, total=  32.2s\n",
      "[CV] selectFeature__percentile=90, svc__C=1000000000000000.0 .........\n"
     ]
    },
    {
     "name": "stderr",
     "output_type": "stream",
     "text": [
      "/Users/Jenny/anaconda3/lib/python3.7/site-packages/sklearn/svm/base.py:922: ConvergenceWarning: Liblinear failed to converge, increase the number of iterations.\n",
      "  \"the number of iterations.\", ConvergenceWarning)\n"
     ]
    },
    {
     "name": "stdout",
     "output_type": "stream",
     "text": [
      "[CV]  selectFeature__percentile=90, svc__C=1000000000000000.0, score=0.752625, total=  32.4s\n",
      "[CV] selectFeature__percentile=90, svc__C=1000000000000000.0 .........\n"
     ]
    },
    {
     "name": "stderr",
     "output_type": "stream",
     "text": [
      "/Users/Jenny/anaconda3/lib/python3.7/site-packages/sklearn/svm/base.py:922: ConvergenceWarning: Liblinear failed to converge, increase the number of iterations.\n",
      "  \"the number of iterations.\", ConvergenceWarning)\n"
     ]
    },
    {
     "name": "stdout",
     "output_type": "stream",
     "text": [
      "[CV]  selectFeature__percentile=90, svc__C=1000000000000000.0, score=0.74075, total=  32.4s\n",
      "[CV] selectFeature__percentile=90, svc__C=1000000000000000.0 .........\n"
     ]
    },
    {
     "name": "stderr",
     "output_type": "stream",
     "text": [
      "/Users/Jenny/anaconda3/lib/python3.7/site-packages/sklearn/svm/base.py:922: ConvergenceWarning: Liblinear failed to converge, increase the number of iterations.\n",
      "  \"the number of iterations.\", ConvergenceWarning)\n"
     ]
    },
    {
     "name": "stdout",
     "output_type": "stream",
     "text": [
      "[CV]  selectFeature__percentile=90, svc__C=1000000000000000.0, score=0.749125, total=  32.2s\n",
      "[CV] selectFeature__percentile=95, svc__C=1e-05 ......................\n",
      "[CV]  selectFeature__percentile=95, svc__C=1e-05, score=0.5034375, total=   6.0s\n",
      "[CV] selectFeature__percentile=95, svc__C=1e-05 ......................\n",
      "[CV]  selectFeature__percentile=95, svc__C=1e-05, score=0.50325, total=   5.9s\n",
      "[CV] selectFeature__percentile=95, svc__C=1e-05 ......................\n",
      "[CV]  selectFeature__percentile=95, svc__C=1e-05, score=0.503375, total=   5.9s\n",
      "[CV] selectFeature__percentile=95, svc__C=1e-05 ......................\n",
      "[CV]  selectFeature__percentile=95, svc__C=1e-05, score=0.5034375, total=   6.0s\n",
      "[CV] selectFeature__percentile=95, svc__C=1e-05 ......................\n",
      "[CV]  selectFeature__percentile=95, svc__C=1e-05, score=0.50325, total=   6.2s\n",
      "[CV] selectFeature__percentile=95, svc__C=0.001 ......................\n",
      "[CV]  selectFeature__percentile=95, svc__C=0.001, score=0.7226875, total=   5.9s\n",
      "[CV] selectFeature__percentile=95, svc__C=0.001 ......................\n",
      "[CV]  selectFeature__percentile=95, svc__C=0.001, score=0.729375, total=   5.9s\n",
      "[CV] selectFeature__percentile=95, svc__C=0.001 ......................\n",
      "[CV]  selectFeature__percentile=95, svc__C=0.001, score=0.73225, total=   6.0s\n",
      "[CV] selectFeature__percentile=95, svc__C=0.001 ......................\n",
      "[CV]  selectFeature__percentile=95, svc__C=0.001, score=0.7190625, total=   6.1s\n",
      "[CV] selectFeature__percentile=95, svc__C=0.001 ......................\n",
      "[CV]  selectFeature__percentile=95, svc__C=0.001, score=0.7268125, total=   5.9s\n",
      "[CV] selectFeature__percentile=95, svc__C=1 ..........................\n",
      "[CV]  selectFeature__percentile=95, svc__C=1, score=0.787375, total=   6.5s\n",
      "[CV] selectFeature__percentile=95, svc__C=1 ..........................\n",
      "[CV]  selectFeature__percentile=95, svc__C=1, score=0.7875, total=   6.5s\n",
      "[CV] selectFeature__percentile=95, svc__C=1 ..........................\n",
      "[CV]  selectFeature__percentile=95, svc__C=1, score=0.796875, total=   6.5s\n",
      "[CV] selectFeature__percentile=95, svc__C=1 ..........................\n",
      "[CV]  selectFeature__percentile=95, svc__C=1, score=0.785375, total=   6.5s\n",
      "[CV] selectFeature__percentile=95, svc__C=1 ..........................\n",
      "[CV]  selectFeature__percentile=95, svc__C=1, score=0.7935625, total=   6.5s\n",
      "[CV] selectFeature__percentile=95, svc__C=1000.0 .....................\n"
     ]
    },
    {
     "name": "stderr",
     "output_type": "stream",
     "text": [
      "/Users/Jenny/anaconda3/lib/python3.7/site-packages/sklearn/svm/base.py:922: ConvergenceWarning: Liblinear failed to converge, increase the number of iterations.\n",
      "  \"the number of iterations.\", ConvergenceWarning)\n"
     ]
    },
    {
     "name": "stdout",
     "output_type": "stream",
     "text": [
      "[CV]  selectFeature__percentile=95, svc__C=1000.0, score=0.765, total=  34.0s\n",
      "[CV] selectFeature__percentile=95, svc__C=1000.0 .....................\n"
     ]
    },
    {
     "name": "stderr",
     "output_type": "stream",
     "text": [
      "/Users/Jenny/anaconda3/lib/python3.7/site-packages/sklearn/svm/base.py:922: ConvergenceWarning: Liblinear failed to converge, increase the number of iterations.\n",
      "  \"the number of iterations.\", ConvergenceWarning)\n"
     ]
    },
    {
     "name": "stdout",
     "output_type": "stream",
     "text": [
      "[CV]  selectFeature__percentile=95, svc__C=1000.0, score=0.7633125, total=  33.9s\n",
      "[CV] selectFeature__percentile=95, svc__C=1000.0 .....................\n"
     ]
    },
    {
     "name": "stderr",
     "output_type": "stream",
     "text": [
      "/Users/Jenny/anaconda3/lib/python3.7/site-packages/sklearn/svm/base.py:922: ConvergenceWarning: Liblinear failed to converge, increase the number of iterations.\n",
      "  \"the number of iterations.\", ConvergenceWarning)\n"
     ]
    },
    {
     "name": "stdout",
     "output_type": "stream",
     "text": [
      "[CV]  selectFeature__percentile=95, svc__C=1000.0, score=0.771, total=  34.6s\n",
      "[CV] selectFeature__percentile=95, svc__C=1000.0 .....................\n"
     ]
    },
    {
     "name": "stderr",
     "output_type": "stream",
     "text": [
      "/Users/Jenny/anaconda3/lib/python3.7/site-packages/sklearn/svm/base.py:922: ConvergenceWarning: Liblinear failed to converge, increase the number of iterations.\n",
      "  \"the number of iterations.\", ConvergenceWarning)\n"
     ]
    },
    {
     "name": "stdout",
     "output_type": "stream",
     "text": [
      "[CV]  selectFeature__percentile=95, svc__C=1000.0, score=0.7568125, total=  34.6s\n",
      "[CV] selectFeature__percentile=95, svc__C=1000.0 .....................\n"
     ]
    },
    {
     "name": "stderr",
     "output_type": "stream",
     "text": [
      "/Users/Jenny/anaconda3/lib/python3.7/site-packages/sklearn/svm/base.py:922: ConvergenceWarning: Liblinear failed to converge, increase the number of iterations.\n",
      "  \"the number of iterations.\", ConvergenceWarning)\n"
     ]
    },
    {
     "name": "stdout",
     "output_type": "stream",
     "text": [
      "[CV]  selectFeature__percentile=95, svc__C=1000.0, score=0.7660625, total=  34.6s\n",
      "[CV] selectFeature__percentile=95, svc__C=100000.0 ...................\n"
     ]
    },
    {
     "name": "stderr",
     "output_type": "stream",
     "text": [
      "/Users/Jenny/anaconda3/lib/python3.7/site-packages/sklearn/svm/base.py:922: ConvergenceWarning: Liblinear failed to converge, increase the number of iterations.\n",
      "  \"the number of iterations.\", ConvergenceWarning)\n"
     ]
    },
    {
     "name": "stdout",
     "output_type": "stream",
     "text": [
      "[CV]  selectFeature__percentile=95, svc__C=100000.0, score=0.7631875, total=  35.2s\n",
      "[CV] selectFeature__percentile=95, svc__C=100000.0 ...................\n"
     ]
    },
    {
     "name": "stderr",
     "output_type": "stream",
     "text": [
      "/Users/Jenny/anaconda3/lib/python3.7/site-packages/sklearn/svm/base.py:922: ConvergenceWarning: Liblinear failed to converge, increase the number of iterations.\n",
      "  \"the number of iterations.\", ConvergenceWarning)\n"
     ]
    },
    {
     "name": "stdout",
     "output_type": "stream",
     "text": [
      "[CV]  selectFeature__percentile=95, svc__C=100000.0, score=0.7638125, total=  34.8s\n",
      "[CV] selectFeature__percentile=95, svc__C=100000.0 ...................\n"
     ]
    },
    {
     "name": "stderr",
     "output_type": "stream",
     "text": [
      "/Users/Jenny/anaconda3/lib/python3.7/site-packages/sklearn/svm/base.py:922: ConvergenceWarning: Liblinear failed to converge, increase the number of iterations.\n",
      "  \"the number of iterations.\", ConvergenceWarning)\n"
     ]
    },
    {
     "name": "stdout",
     "output_type": "stream",
     "text": [
      "[CV]  selectFeature__percentile=95, svc__C=100000.0, score=0.7703125, total=  34.8s\n",
      "[CV] selectFeature__percentile=95, svc__C=100000.0 ...................\n"
     ]
    },
    {
     "name": "stderr",
     "output_type": "stream",
     "text": [
      "/Users/Jenny/anaconda3/lib/python3.7/site-packages/sklearn/svm/base.py:922: ConvergenceWarning: Liblinear failed to converge, increase the number of iterations.\n",
      "  \"the number of iterations.\", ConvergenceWarning)\n"
     ]
    },
    {
     "name": "stdout",
     "output_type": "stream",
     "text": [
      "[CV]  selectFeature__percentile=95, svc__C=100000.0, score=0.754875, total=  34.5s\n",
      "[CV] selectFeature__percentile=95, svc__C=100000.0 ...................\n"
     ]
    },
    {
     "name": "stderr",
     "output_type": "stream",
     "text": [
      "/Users/Jenny/anaconda3/lib/python3.7/site-packages/sklearn/svm/base.py:922: ConvergenceWarning: Liblinear failed to converge, increase the number of iterations.\n",
      "  \"the number of iterations.\", ConvergenceWarning)\n"
     ]
    },
    {
     "name": "stdout",
     "output_type": "stream",
     "text": [
      "[CV]  selectFeature__percentile=95, svc__C=100000.0, score=0.7651875, total=  33.9s\n",
      "[CV] selectFeature__percentile=95, svc__C=10000000.0 .................\n"
     ]
    },
    {
     "name": "stderr",
     "output_type": "stream",
     "text": [
      "/Users/Jenny/anaconda3/lib/python3.7/site-packages/sklearn/svm/base.py:922: ConvergenceWarning: Liblinear failed to converge, increase the number of iterations.\n",
      "  \"the number of iterations.\", ConvergenceWarning)\n"
     ]
    },
    {
     "name": "stdout",
     "output_type": "stream",
     "text": [
      "[CV]  selectFeature__percentile=95, svc__C=10000000.0, score=0.764375, total=  34.6s\n",
      "[CV] selectFeature__percentile=95, svc__C=10000000.0 .................\n"
     ]
    },
    {
     "name": "stderr",
     "output_type": "stream",
     "text": [
      "/Users/Jenny/anaconda3/lib/python3.7/site-packages/sklearn/svm/base.py:922: ConvergenceWarning: Liblinear failed to converge, increase the number of iterations.\n",
      "  \"the number of iterations.\", ConvergenceWarning)\n"
     ]
    },
    {
     "name": "stdout",
     "output_type": "stream",
     "text": [
      "[CV]  selectFeature__percentile=95, svc__C=10000000.0, score=0.7629375, total=  34.2s\n",
      "[CV] selectFeature__percentile=95, svc__C=10000000.0 .................\n"
     ]
    },
    {
     "name": "stderr",
     "output_type": "stream",
     "text": [
      "/Users/Jenny/anaconda3/lib/python3.7/site-packages/sklearn/svm/base.py:922: ConvergenceWarning: Liblinear failed to converge, increase the number of iterations.\n",
      "  \"the number of iterations.\", ConvergenceWarning)\n"
     ]
    },
    {
     "name": "stdout",
     "output_type": "stream",
     "text": [
      "[CV]  selectFeature__percentile=95, svc__C=10000000.0, score=0.7699375, total=  34.9s\n",
      "[CV] selectFeature__percentile=95, svc__C=10000000.0 .................\n"
     ]
    },
    {
     "name": "stderr",
     "output_type": "stream",
     "text": [
      "/Users/Jenny/anaconda3/lib/python3.7/site-packages/sklearn/svm/base.py:922: ConvergenceWarning: Liblinear failed to converge, increase the number of iterations.\n",
      "  \"the number of iterations.\", ConvergenceWarning)\n"
     ]
    },
    {
     "name": "stdout",
     "output_type": "stream",
     "text": [
      "[CV]  selectFeature__percentile=95, svc__C=10000000.0, score=0.754625, total=  36.3s\n",
      "[CV] selectFeature__percentile=95, svc__C=10000000.0 .................\n"
     ]
    },
    {
     "name": "stderr",
     "output_type": "stream",
     "text": [
      "/Users/Jenny/anaconda3/lib/python3.7/site-packages/sklearn/svm/base.py:922: ConvergenceWarning: Liblinear failed to converge, increase the number of iterations.\n",
      "  \"the number of iterations.\", ConvergenceWarning)\n"
     ]
    },
    {
     "name": "stdout",
     "output_type": "stream",
     "text": [
      "[CV]  selectFeature__percentile=95, svc__C=10000000.0, score=0.7651875, total=  34.8s\n",
      "[CV] selectFeature__percentile=95, svc__C=10000000000.0 ..............\n"
     ]
    },
    {
     "name": "stderr",
     "output_type": "stream",
     "text": [
      "/Users/Jenny/anaconda3/lib/python3.7/site-packages/sklearn/svm/base.py:922: ConvergenceWarning: Liblinear failed to converge, increase the number of iterations.\n",
      "  \"the number of iterations.\", ConvergenceWarning)\n"
     ]
    },
    {
     "name": "stdout",
     "output_type": "stream",
     "text": [
      "[CV]  selectFeature__percentile=95, svc__C=10000000000.0, score=0.763375, total=  33.8s\n",
      "[CV] selectFeature__percentile=95, svc__C=10000000000.0 ..............\n"
     ]
    },
    {
     "name": "stderr",
     "output_type": "stream",
     "text": [
      "/Users/Jenny/anaconda3/lib/python3.7/site-packages/sklearn/svm/base.py:922: ConvergenceWarning: Liblinear failed to converge, increase the number of iterations.\n",
      "  \"the number of iterations.\", ConvergenceWarning)\n"
     ]
    },
    {
     "name": "stdout",
     "output_type": "stream",
     "text": [
      "[CV]  selectFeature__percentile=95, svc__C=10000000000.0, score=0.7629375, total=  33.3s\n",
      "[CV] selectFeature__percentile=95, svc__C=10000000000.0 ..............\n"
     ]
    },
    {
     "name": "stderr",
     "output_type": "stream",
     "text": [
      "/Users/Jenny/anaconda3/lib/python3.7/site-packages/sklearn/svm/base.py:922: ConvergenceWarning: Liblinear failed to converge, increase the number of iterations.\n",
      "  \"the number of iterations.\", ConvergenceWarning)\n"
     ]
    },
    {
     "name": "stdout",
     "output_type": "stream",
     "text": [
      "[CV]  selectFeature__percentile=95, svc__C=10000000000.0, score=0.7699375, total=  33.7s\n",
      "[CV] selectFeature__percentile=95, svc__C=10000000000.0 ..............\n"
     ]
    },
    {
     "name": "stderr",
     "output_type": "stream",
     "text": [
      "/Users/Jenny/anaconda3/lib/python3.7/site-packages/sklearn/svm/base.py:922: ConvergenceWarning: Liblinear failed to converge, increase the number of iterations.\n",
      "  \"the number of iterations.\", ConvergenceWarning)\n"
     ]
    },
    {
     "name": "stdout",
     "output_type": "stream",
     "text": [
      "[CV]  selectFeature__percentile=95, svc__C=10000000000.0, score=0.754625, total=  36.5s\n",
      "[CV] selectFeature__percentile=95, svc__C=10000000000.0 ..............\n"
     ]
    },
    {
     "name": "stderr",
     "output_type": "stream",
     "text": [
      "/Users/Jenny/anaconda3/lib/python3.7/site-packages/sklearn/svm/base.py:922: ConvergenceWarning: Liblinear failed to converge, increase the number of iterations.\n",
      "  \"the number of iterations.\", ConvergenceWarning)\n"
     ]
    },
    {
     "name": "stdout",
     "output_type": "stream",
     "text": [
      "[CV]  selectFeature__percentile=95, svc__C=10000000000.0, score=0.7656875, total=  40.5s\n",
      "[CV] selectFeature__percentile=95, svc__C=1000000000000000.0 .........\n"
     ]
    },
    {
     "name": "stderr",
     "output_type": "stream",
     "text": [
      "/Users/Jenny/anaconda3/lib/python3.7/site-packages/sklearn/svm/base.py:922: ConvergenceWarning: Liblinear failed to converge, increase the number of iterations.\n",
      "  \"the number of iterations.\", ConvergenceWarning)\n"
     ]
    },
    {
     "name": "stdout",
     "output_type": "stream",
     "text": [
      "[CV]  selectFeature__percentile=95, svc__C=1000000000000000.0, score=0.763375, total=  38.1s\n",
      "[CV] selectFeature__percentile=95, svc__C=1000000000000000.0 .........\n"
     ]
    },
    {
     "name": "stderr",
     "output_type": "stream",
     "text": [
      "/Users/Jenny/anaconda3/lib/python3.7/site-packages/sklearn/svm/base.py:922: ConvergenceWarning: Liblinear failed to converge, increase the number of iterations.\n",
      "  \"the number of iterations.\", ConvergenceWarning)\n"
     ]
    },
    {
     "name": "stdout",
     "output_type": "stream",
     "text": [
      "[CV]  selectFeature__percentile=95, svc__C=1000000000000000.0, score=0.7629375, total=  33.0s\n",
      "[CV] selectFeature__percentile=95, svc__C=1000000000000000.0 .........\n"
     ]
    },
    {
     "name": "stderr",
     "output_type": "stream",
     "text": [
      "/Users/Jenny/anaconda3/lib/python3.7/site-packages/sklearn/svm/base.py:922: ConvergenceWarning: Liblinear failed to converge, increase the number of iterations.\n",
      "  \"the number of iterations.\", ConvergenceWarning)\n"
     ]
    },
    {
     "name": "stdout",
     "output_type": "stream",
     "text": [
      "[CV]  selectFeature__percentile=95, svc__C=1000000000000000.0, score=0.7699375, total=  34.9s\n",
      "[CV] selectFeature__percentile=95, svc__C=1000000000000000.0 .........\n"
     ]
    },
    {
     "name": "stderr",
     "output_type": "stream",
     "text": [
      "/Users/Jenny/anaconda3/lib/python3.7/site-packages/sklearn/svm/base.py:922: ConvergenceWarning: Liblinear failed to converge, increase the number of iterations.\n",
      "  \"the number of iterations.\", ConvergenceWarning)\n"
     ]
    },
    {
     "name": "stdout",
     "output_type": "stream",
     "text": [
      "[CV]  selectFeature__percentile=95, svc__C=1000000000000000.0, score=0.754625, total=35.5min\n",
      "[CV] selectFeature__percentile=95, svc__C=1000000000000000.0 .........\n"
     ]
    },
    {
     "name": "stderr",
     "output_type": "stream",
     "text": [
      "/Users/Jenny/anaconda3/lib/python3.7/site-packages/sklearn/svm/base.py:922: ConvergenceWarning: Liblinear failed to converge, increase the number of iterations.\n",
      "  \"the number of iterations.\", ConvergenceWarning)\n"
     ]
    },
    {
     "name": "stdout",
     "output_type": "stream",
     "text": [
      "[CV]  selectFeature__percentile=95, svc__C=1000000000000000.0, score=0.7656875, total=  31.3s\n"
     ]
    },
    {
     "name": "stderr",
     "output_type": "stream",
     "text": [
      "[Parallel(n_jobs=1)]: Done 120 out of 120 | elapsed: 86.7min finished\n"
     ]
    }
   ],
   "source": [
    "gd_svm= GridSearchCV(estimator=svm, param_grid=parameters, cv=5, verbose=3)\n",
    "gd_svm.fit(X_train, y_train)\n",
    "svm_predict = gd_svm.predict(X_val)\n",
    "accuracy = gd_svm.score(X_val, y_val)\n",
    "best_param = gd_svm.best_params_\n",
    "best_score = gd_svm.best_score_\n",
    "best_estim = gd_svm.best_estimator_\n",
    "result = gd_svm.cv_results_"
   ]
  },
  {
   "cell_type": "code",
   "execution_count": 46,
   "metadata": {},
   "outputs": [
    {
     "name": "stdout",
     "output_type": "stream",
     "text": [
      "0.7912625 {'selectFeature__percentile': 80, 'svc__C': 1} Pipeline(memory=None,\n",
      "     steps=[('tfidf', TfidfVectorizer(analyzer='word', binary=False, decode_error='strict',\n",
      "        dtype=<class 'numpy.float64'>, encoding='utf-8', input='content',\n",
      "        lowercase=True, max_df=1.0, max_features=None, min_df=1,\n",
      "        ngram_range=(1, 2), norm='l2', preprocessor=None, smooth_idf=True,..._hinge', max_iter=1000,\n",
      "     multi_class='ovr', penalty='l2', random_state=0, tol=0.01, verbose=0))])\n"
     ]
    }
   ],
   "source": [
    "print(best_score, best_param,best_estim)\n"
   ]
  },
  {
   "cell_type": "code",
   "execution_count": 45,
   "metadata": {},
   "outputs": [
    {
     "name": "stdout",
     "output_type": "stream",
     "text": [
      "C-value:  1e-05\n",
      "Percentile: 0.001\n",
      "Test score:  [0.50335   0.7257    0.7912625 0.741325  0.7386375 0.7387125 0.7387375\n",
      " 0.7387375 0.50335   0.72585   0.7912625 0.750975  0.7482875 0.747825\n",
      " 0.7481875 0.7482    0.50335   0.7260375 0.7901375 0.7644375 0.763475\n",
      " 0.7634125 0.7633125 0.7633125]\n",
      "Runtime:  [0.74400916 0.73598428 0.72736764 0.72899423 0.75782781 0.72694292\n",
      " 0.79923339 0.69388838 0.70941944 0.70418563 0.74543047 0.74576077\n",
      " 0.76190529 0.73383369 0.74584422 0.73997598 0.73948283 0.73055391\n",
      " 0.72933989 0.74592824 0.73305616 0.73157077 0.82634764 0.74657998]\n",
      "Train score:  [0.50335625 0.7384375  0.98850937 0.99959375 0.99956563 0.99956563\n",
      " 0.99956563 0.99956563 0.50335625 0.739075   0.99286562 0.99962812\n",
      " 0.99960625 0.9996     0.9996125  0.9996125  0.50335625 0.73975937\n",
      " 0.99561875 0.99969688 0.9996875  0.99969062 0.9996875  0.9996875 ]\n"
     ]
    }
   ],
   "source": [
    "params = [para['svc__C'] for para in result['params']]\n",
    "test_score = result['mean_test_score']\n",
    "score_time = result['mean_score_time']\n",
    "train_score = result['mean_train_score']\n",
    "\n",
    "print(\"C-value: \", params[0])\n",
    "print(\"Percentile:\", params[1])\n",
    "print(\"Test score: \",test_score)\n",
    "print(\"Runtime: \",score_time)\n",
    "print(\"Train score: \",train_score)"
   ]
  },
  {
   "cell_type": "code",
   "execution_count": 37,
   "metadata": {},
   "outputs": [
    {
     "data": {
      "text/plain": [
       "array(['gonna start my weekend of revising for summere exams nowm wish me luck ',\n",
       "       'sigh..staring at another very tight month..when will hikes come back ',\n",
       "       \"@MissBossi2u yeah I feel u!.. Well in glad you're doing okay \",\n",
       "       ...,\n",
       "       \"3.0 isn't a midnight release it seems must be a 9am San fran time one. \",\n",
       "       '@Extremo you really need to buy Etihad Stafium tickets a month out if you want good seats. ',\n",
       "       'Is my family mad at me? '], dtype=object)"
      ]
     },
     "execution_count": 37,
     "metadata": {},
     "output_type": "execute_result"
    }
   ],
   "source": []
  },
  {
   "cell_type": "code",
   "execution_count": null,
   "metadata": {},
   "outputs": [],
   "source": []
  },
  {
   "cell_type": "code",
   "execution_count": null,
   "metadata": {},
   "outputs": [],
   "source": []
  }
 ],
 "metadata": {
  "kernelspec": {
   "display_name": "Python 3",
   "language": "python",
   "name": "python3"
  },
  "language_info": {
   "codemirror_mode": {
    "name": "ipython",
    "version": 3
   },
   "file_extension": ".py",
   "mimetype": "text/x-python",
   "name": "python",
   "nbconvert_exporter": "python",
   "pygments_lexer": "ipython3",
   "version": "3.7.1"
  }
 },
 "nbformat": 4,
 "nbformat_minor": 2
}
